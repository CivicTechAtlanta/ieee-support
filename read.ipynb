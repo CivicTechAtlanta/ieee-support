{
 "cells": [
  {
   "cell_type": "code",
   "execution_count": 26,
   "metadata": {},
   "outputs": [
    {
     "name": "stdout",
     "output_type": "stream",
     "text": [
      "Jake Derry (Tuesday, August 20, 2024 at 12:00:00 AM UTC): this is a message \n",
      "Jake Derry (Tuesday, August 20, 2024 at 12:00:22 AM UTC):  \n",
      "Jake Derry (Tuesday, August 20, 2024 at 12:03:48 AM UTC): this is actually a thread \n",
      "Jake Derry (Tuesday, August 20, 2024 at 12:03:26 AM UTC): this is a thread [REPLY TO] \n",
      "Jake Derry (Tuesday, August 20, 2024 at 12:04:18 AM UTC): another reply [REPLY TO] this is a thread\n",
      "Jake Derry (Tuesday, August 20, 2024 at 12:05:00 AM UTC): Updated room membership. \n",
      "Jake Derry (Tuesday, August 20, 2024 at 12:05:40 AM UTC): Updated room membership. \n",
      "K Tokuda (Tuesday, August 20, 2024 at 12:05:41 AM UTC): Updated room membership. \n",
      "K Tokuda (Tuesday, August 20, 2024 at 12:05:58 AM UTC): and a reply from someone new [REPLY TO] another reply\n",
      "Dillon Wintz (Tuesday, August 20, 2024 at 12:06:16 AM UTC): Updated room membership. \n",
      "Jake Derry (Tuesday, August 20, 2024 at 12:06:32 AM UTC): Updated room membership. \n",
      "Dillon Wintz (Tuesday, August 20, 2024 at 12:06:34 AM UTC): Hello everyone \n",
      "K Tokuda (Tuesday, August 20, 2024 at 12:06:48 AM UTC): and a reply to my own reply [REPLY TO] and a reply from someone new\n",
      "Jake Derry (Tuesday, August 20, 2024 at 12:06:55 AM UTC): replying agin [REPLY TO] and a reply from someone new\n",
      "Dillon Wintz (Tuesday, August 20, 2024 at 12:06:55 AM UTC): yet another reply [REPLY TO] and a reply from someone new\n",
      "Jake Derry (Tuesday, August 20, 2024 at 12:07:10 AM UTC): create thread on a reply \n",
      "Derrick Zhen (Tuesday, August 20, 2024 at 12:07:12 AM UTC): Updated room membership. \n",
      "Dillon Wintz (Tuesday, August 20, 2024 at 12:07:40 AM UTC):  \n",
      "Dillon Wintz (Tuesday, August 20, 2024 at 12:08:24 AM UTC): 🤠 \n"
     ]
    }
   ],
   "source": [
    "import json\n",
    "\n",
    "with open(\"messages.json\", \"r\") as f:\n",
    "    s = json.loads(f.read())\n",
    "\n",
    "messages = s['messages']\n",
    "\n",
    "for message in messages:\n",
    "    # print(message)\n",
    "    user = message['creator']['name']\n",
    "    created_date = message['created_date'] if 'created_date' in message else ''\n",
    "    quoted_message = '[REPLY TO] ' + str(message['quoted_message_metadata']['text']) if 'quoted_message_metadata' in message else ''\n",
    "    text = message['text'] if 'text' in message else \"\"\n",
    "\n",
    "    print(f\"{user} ({created_date}): {text} {quoted_message}\")"
   ]
  },
  {
   "cell_type": "code",
   "execution_count": 1,
   "metadata": {},
   "outputs": [
    {
     "name": "stdout",
     "output_type": "stream",
     "text": [
      "Collecting markdown2\n",
      "  Downloading markdown2-2.5.0-py2.py3-none-any.whl.metadata (2.2 kB)\n",
      "Collecting pdfkit\n",
      "  Downloading pdfkit-1.0.0-py3-none-any.whl.metadata (9.3 kB)\n",
      "Downloading markdown2-2.5.0-py2.py3-none-any.whl (47 kB)\n",
      "Downloading pdfkit-1.0.0-py3-none-any.whl (12 kB)\n",
      "Installing collected packages: pdfkit, markdown2\n",
      "Successfully installed markdown2-2.5.0 pdfkit-1.0.0\n",
      "Note: you may need to restart the kernel to use updated packages.\n"
     ]
    }
   ],
   "source": [
    "%pip install markdown2 pdfkit"
   ]
  },
  {
   "cell_type": "code",
   "execution_count": 6,
   "metadata": {},
   "outputs": [
    {
     "data": {
      "text/plain": [
       "True"
      ]
     },
     "execution_count": 6,
     "metadata": {},
     "output_type": "execute_result"
    }
   ],
   "source": [
    "import base64\n",
    "import markdown2\n",
    "import pdfkit\n",
    "\n",
    "\n",
    "\n",
    "with open(\"image.png\", \"rb\") as img_file:\n",
    "    encoded_string = base64.b64encode(img_file.read()).decode('utf-8')\n",
    "\n",
    "markdown_text = f\"\"\"\n",
    "# Title\n",
    "\n",
    "This is a paragraph in **Markdown** with an image.\n",
    "\n",
    "<img src=\"data:image/png;base64,{encoded_string}\" alt=\"Sample Image\" />\n",
    "\n",
    "- Item 1\n",
    "- Item 2\n",
    "- Item 3\n",
    "\"\"\"\n",
    "\n",
    "html_text = markdown2.markdown(markdown_text)\n",
    "pdfkit.from_string(html_text, \"output.pdf\")\n"
   ]
  },
  {
   "cell_type": "code",
   "execution_count": null,
   "metadata": {},
   "outputs": [],
   "source": []
  }
 ],
 "metadata": {
  "kernelspec": {
   "display_name": ".venv",
   "language": "python",
   "name": "python3"
  },
  "language_info": {
   "codemirror_mode": {
    "name": "ipython",
    "version": 3
   },
   "file_extension": ".py",
   "mimetype": "text/x-python",
   "name": "python",
   "nbconvert_exporter": "python",
   "pygments_lexer": "ipython3",
   "version": "3.12.3"
  }
 },
 "nbformat": 4,
 "nbformat_minor": 2
}
